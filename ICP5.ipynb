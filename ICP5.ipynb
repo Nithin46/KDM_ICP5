{
  "nbformat": 4,
  "nbformat_minor": 0,
  "metadata": {
    "colab": {
      "name": "ICP5.ipynb",
      "provenance": [],
      "collapsed_sections": [],
      "authorship_tag": "ABX9TyM6idpWB9zfdvaVKKUb3NAu",
      "include_colab_link": true
    },
    "kernelspec": {
      "name": "python3",
      "display_name": "Python 3"
    }
  },
  "cells": [
    {
      "cell_type": "markdown",
      "metadata": {
        "id": "view-in-github",
        "colab_type": "text"
      },
      "source": [
        "<a href=\"https://colab.research.google.com/github/Nithin46/KDM_ICP5/blob/main/ICP5.ipynb\" target=\"_parent\"><img src=\"https://colab.research.google.com/assets/colab-badge.svg\" alt=\"Open In Colab\"/></a>"
      ]
    },
    {
      "cell_type": "code",
      "metadata": {
        "colab": {
          "base_uri": "https://localhost:8080/"
        },
        "id": "roRJaycUiYww",
        "outputId": "bf94058a-59fd-4703-9a9a-b63df060fe22"
      },
      "source": [
        "!pip install pyspark"
      ],
      "execution_count": 1,
      "outputs": [
        {
          "output_type": "stream",
          "text": [
            "Collecting pyspark\n",
            "\u001b[?25l  Downloading https://files.pythonhosted.org/packages/27/67/5158f846202d7f012d1c9ca21c3549a58fd3c6707ae8ee823adcaca6473c/pyspark-3.0.2.tar.gz (204.8MB)\n",
            "\u001b[K     |████████████████████████████████| 204.8MB 73kB/s \n",
            "\u001b[?25hCollecting py4j==0.10.9\n",
            "\u001b[?25l  Downloading https://files.pythonhosted.org/packages/9e/b6/6a4fb90cd235dc8e265a6a2067f2a2c99f0d91787f06aca4bcf7c23f3f80/py4j-0.10.9-py2.py3-none-any.whl (198kB)\n",
            "\u001b[K     |████████████████████████████████| 204kB 49.3MB/s \n",
            "\u001b[?25hBuilding wheels for collected packages: pyspark\n",
            "  Building wheel for pyspark (setup.py) ... \u001b[?25l\u001b[?25hdone\n",
            "  Created wheel for pyspark: filename=pyspark-3.0.2-py2.py3-none-any.whl size=205186687 sha256=d94518531cc0c0b8784a9e2e47b2e52638b22f2268ec100a51889bcedcc24221\n",
            "  Stored in directory: /root/.cache/pip/wheels/8b/09/da/c1f2859bcc86375dc972c5b6af4881b3603269bcc4c9be5d16\n",
            "Successfully built pyspark\n",
            "Installing collected packages: py4j, pyspark\n",
            "Successfully installed py4j-0.10.9 pyspark-3.0.2\n"
          ],
          "name": "stdout"
        }
      ]
    },
    {
      "cell_type": "code",
      "metadata": {
        "id": "bqNlF5fnk0pu"
      },
      "source": [
        "from __future__ import print_function\r\n",
        "from pyspark import SparkConf, SparkContext\r\n",
        "from pyspark.ml.feature import HashingTF, IDF, Tokenizer\r\n",
        "from pyspark.sql import SparkSession\r\n",
        "from pyspark.ml.feature import NGram\r\n",
        "from pyspark.ml.feature import Word2Vec"
      ],
      "execution_count": 2,
      "outputs": []
    },
    {
      "cell_type": "code",
      "metadata": {
        "id": "Y5L3CwDNk5bV"
      },
      "source": [
        "# creating the spark session\r\n",
        "spark = SparkSession.builder.appName(\"TF-IDF Implementation\").getOrCreate()"
      ],
      "execution_count": 3,
      "outputs": []
    },
    {
      "cell_type": "code",
      "metadata": {
        "id": "q-Lxs5k1qK2Z"
      },
      "source": [
        "File1 = spark.read.text(\"/content/Input1.txt\")\r\n",
        "File2 = spark.read.text(\"/content/Input2.txt\")\r\n",
        "File3 = spark.read.text(\"/content/Input3.txt\")\r\n",
        "File4 = spark.read.text(\"/content/Input4.txt\")\r\n",
        "File5 = spark.read.text(\"/content/Input5.txt\")"
      ],
      "execution_count": 50,
      "outputs": []
    },
    {
      "cell_type": "code",
      "metadata": {
        "id": "WY1USqTzyoGV"
      },
      "source": [
        "sentenceData = spark.createDataFrame([\r\n",
        "        (0.0, File1.collect()),\r\n",
        "        (0.1, File2.collect()),\r\n",
        "        (0.2, File3.collect()),\r\n",
        "        (0.3, File4.collect()),\r\n",
        "        (0.4, File5.collect()),\r\n",
        "    ], [\"label\", \"sentence\"])"
      ],
      "execution_count": 52,
      "outputs": []
    },
    {
      "cell_type": "code",
      "metadata": {
        "colab": {
          "base_uri": "https://localhost:8080/"
        },
        "id": "2Ts-ZMd8sNpK",
        "outputId": "599bc386-d355-4216-a6e1-ae16f06c4bd5"
      },
      "source": [
        "sentenceData.show(truncate=False)"
      ],
      "execution_count": 53,
      "outputs": [
        {
          "output_type": "stream",
          "text": [
            "+-----+---------------------------------------------------------------------------------------------------------------------------------------------------------------------------------------------------------------------------------------------------------------------------------------------------------------------------------------+\n",
            "|label|sentence                                                                                                                                                                                                                                                                                                                               |\n",
            "+-----+---------------------------------------------------------------------------------------------------------------------------------------------------------------------------------------------------------------------------------------------------------------------------------------------------------------------------------------+\n",
            "|0.0  |[[Machine learning is the study of computer algorithms that improve automatically through experience. It is seen as a part of artificial intelligence.]]                                                                                                                                                                               |\n",
            "|0.1  |[[Artificial intelligence is intelligence demonstrated by machines, unlike the natural intelligence displayed by humans and animals, which involves consciousness and emotionality. ]]                                                                                                                                                 |\n",
            "|0.2  |[[Knowledge discovery, the first step of the knowledge management process involves communication, integration, and systemization of multiple streams of explicit knowledge. Tacit knowledge is implied knowledge that is discovered by socialization, for example, through joint activities, instead of written or oral instructions.]]|\n",
            "|0.3  |[[Knowledge capture is the part of knowledge management that deals with retrieving explicit or tacit knowledge that resides within people, artifacts, or organizational entities.]]                                                                                                                                                    |\n",
            "|0.4  |[[Last but not least, the knowledge discovered, captured, and shared has to be applied for the benefit of the business. All the efforts of knowledge management fail if this application or implementation is not effective.]]                                                                                                         |\n",
            "+-----+---------------------------------------------------------------------------------------------------------------------------------------------------------------------------------------------------------------------------------------------------------------------------------------------------------------------------------------+\n",
            "\n"
          ],
          "name": "stdout"
        }
      ]
    }
  ]
}